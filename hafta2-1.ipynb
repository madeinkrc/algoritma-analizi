{
 "cells": [
  {
   "cell_type": "code",
   "execution_count": 5,
   "metadata": {
    "collapsed": false
   },
   "outputs": [],
   "source": [
    "def createRandom(n):\n",
    "    import random\n",
    "    myarray=[]\n",
    "    for i in range(n):\n",
    "        myarray.append(random.randint(0,100))\n",
    "    return myarray"
   ]
  },
  {
   "cell_type": "code",
   "execution_count": 6,
   "metadata": {
    "collapsed": false
   },
   "outputs": [
    {
     "data": {
      "text/plain": [
       "[76, 12, 64, 0, 61]"
      ]
     },
     "execution_count": 6,
     "metadata": {},
     "output_type": "execute_result"
    }
   ],
   "source": [
    "createRandom(5)"
   ]
  },
  {
   "cell_type": "code",
   "execution_count": 10,
   "metadata": {
    "collapsed": true
   },
   "outputs": [],
   "source": [
    "def myBubble_Sort(my_array):\n",
    "    number_of_comparison=0\n",
    "    for passnum in range(len(my_array)-1,0,-1):\n",
    "        for i in range(passnum):\n",
    "            number_of_comparison=number_of_comparison+1\n",
    "            if my_array[i]>my_array[i+1]:\n",
    "                temp = my_array[i]\n",
    "                my_array[i] = my_array[i+1]\n",
    "                my_array[i+1] = temp\n",
    "    return (my_array,number_of_comparison)"
   ]
  },
  {
   "cell_type": "code",
   "execution_count": 23,
   "metadata": {
    "collapsed": true
   },
   "outputs": [],
   "source": [
    "def myInsertion_Sort(alist):\n",
    "    number_of_comparison=0\n",
    "    for index in range(1,len(alist)):\n",
    "        currentvalue = alist[index]\n",
    "        position = index\n",
    "    while position>0 and alist[position-1]>currentvalue:\n",
    "        number_of_comparison=number_of_comparison+1\n",
    "        alist[position]=alist[position-1]\n",
    "        position = position-1\n",
    "    alist[position]=currentvalue\n",
    "    return (alist,number_of_comparison)"
   ]
  },
  {
   "cell_type": "code",
   "execution_count": 24,
   "metadata": {
    "collapsed": false
   },
   "outputs": [
    {
     "name": "stdout",
     "output_type": "stream",
     "text": [
      "([8, 12, 19, 36, 39, 73, 79, 87, 95, 97], 45)\n",
      "([22, 28, 50, 64, 65, 79, 83, 88, 90, 95], 45)\n",
      "([19, 27, 45, 57, 58, 75, 79, 80, 84, 93], 45)\n"
     ]
    }
   ],
   "source": [
    "n=10\n",
    "for i in range(3):\n",
    "    print(myBubble_Sort(createRandom(n)))"
   ]
  },
  {
   "cell_type": "code",
   "execution_count": 25,
   "metadata": {
    "collapsed": false
   },
   "outputs": [
    {
     "name": "stdout",
     "output_type": "stream",
     "text": [
      "([66, 79, 88, 47, 84, 61, 76, 1, 32, 76], 1)\n",
      "([79, 38, 78, 1, 41, 5, 67, 21, 0, 93], 0)\n",
      "([52, 23, 63, 59, 97, 21, 52, 39, 39, 44], 1)\n"
     ]
    }
   ],
   "source": [
    "n=10\n",
    "for i in range(3):\n",
    "    print(myInsertion_Sort(createRandom(n)))"
   ]
  },
  {
   "cell_type": "code",
   "execution_count": 4,
   "metadata": {
    "collapsed": false
   },
   "outputs": [
    {
     "ename": "NameError",
     "evalue": "name 'new_array' is not defined",
     "output_type": "error",
     "traceback": [
      "\u001b[0;31m---------------------------------------------------------------------------\u001b[0m",
      "\u001b[0;31mNameError\u001b[0m                                 Traceback (most recent call last)",
      "\u001b[0;32m<ipython-input-4-403c2012357e>\u001b[0m in \u001b[0;36m<module>\u001b[0;34m()\u001b[0m\n\u001b[1;32m      1\u001b[0m \u001b[0mmy_array_1\u001b[0m\u001b[1;33m=\u001b[0m\u001b[0mcreateRandom\u001b[0m\u001b[1;33m(\u001b[0m\u001b[1;36m10\u001b[0m\u001b[1;33m)\u001b[0m\u001b[1;33m\u001b[0m\u001b[0m\n\u001b[0;32m----> 2\u001b[0;31m \u001b[0mresult\u001b[0m\u001b[1;33m=\u001b[0m\u001b[0mmyBubble_Sort\u001b[0m\u001b[1;33m(\u001b[0m\u001b[0mmy_array_1\u001b[0m\u001b[1;33m)\u001b[0m\u001b[1;33m\u001b[0m\u001b[0m\n\u001b[0m\u001b[1;32m      3\u001b[0m \u001b[0mprint\u001b[0m\u001b[1;33m(\u001b[0m\u001b[1;34m\"sorted array : \"\u001b[0m\u001b[1;33m,\u001b[0m\u001b[0mresult\u001b[0m\u001b[1;33m[\u001b[0m\u001b[1;36m0\u001b[0m\u001b[1;33m]\u001b[0m\u001b[1;33m)\u001b[0m\u001b[1;33m\u001b[0m\u001b[0m\n\u001b[1;32m      4\u001b[0m \u001b[0mprint\u001b[0m\u001b[1;33m(\u001b[0m\u001b[1;34m\"number of comparison\"\u001b[0m\u001b[1;33m,\u001b[0m\u001b[0mresult\u001b[0m\u001b[1;33m[\u001b[0m\u001b[1;36m1\u001b[0m\u001b[1;33m]\u001b[0m\u001b[1;33m)\u001b[0m\u001b[1;33m\u001b[0m\u001b[0m\n",
      "\u001b[0;32m<ipython-input-3-4f5b88f65bf4>\u001b[0m in \u001b[0;36mmyBubble_Sort\u001b[0;34m(my_array)\u001b[0m\n\u001b[1;32m      1\u001b[0m \u001b[1;32mdef\u001b[0m \u001b[0mmyBubble_Sort\u001b[0m\u001b[1;33m(\u001b[0m\u001b[0mmy_array\u001b[0m\u001b[1;33m)\u001b[0m\u001b[1;33m:\u001b[0m\u001b[1;33m\u001b[0m\u001b[0m\n\u001b[0;32m----> 2\u001b[0;31m     \u001b[1;32mreturn\u001b[0m \u001b[0mnew_array\u001b[0m\u001b[1;33m,\u001b[0m\u001b[0mnumber_of_corparison\u001b[0m\u001b[1;33m\u001b[0m\u001b[0m\n\u001b[0m",
      "\u001b[0;31mNameError\u001b[0m: name 'new_array' is not defined"
     ]
    }
   ],
   "source": [
    "my_array_1=createRandom(10)\n",
    "result=myBubble_Sort(my_array_1)\n",
    "print(\"sorted array : \",result[0])\n",
    "print(\"number of comparison\",result[1])"
   ]
  },
  {
   "cell_type": "code",
   "execution_count": 89,
   "metadata": {
    "collapsed": false
   },
   "outputs": [
    {
     "name": "stdout",
     "output_type": "stream",
     "text": [
      "----------bubbleSort----------------\n",
      "----------old list baby-------------\n",
      "[1, 4, 0, 1, 4, 0, 0, 6, 4, 2, 5, 7, 0, 6, 9, 9, 6, 6, 6, 1, 5, 2, 3, 9, 1, 2, 2, 3, 3, 6]\n",
      "----------new list baby-------------\n",
      "\n",
      "[0, 0, 0, 0, 1, 1, 1, 1, 2, 2, 2, 2, 3, 3, 3, 4, 4, 4, 5, 5, 6, 6, 6, 6, 6, 6, 7, 9, 9, 9]\n",
      "----------step =  162 ------\n",
      "\n",
      "----------insertionSort-------------\n",
      "----------old list baby-------------\n",
      "[2, 2, 2, 3, 1, 5, 6, 5, 6, 4, 7, 2, 4, 7, 4, 2, 1, 7, 0, 4, 1, 8, 4, 7, 8, 5, 8, 9, 7, 3]\n",
      "----------new list baby-------------\n",
      "[0, 1, 1, 1, 2, 2, 2, 2, 2, 3, 3, 4, 4, 4, 4, 4, 5, 5, 5, 6, 6, 7, 7, 7, 7, 7, 8, 8, 8, 9]\n",
      "----------step =  134 -------\n"
     ]
    }
   ],
   "source": [
    "from random import randrange\n",
    "\n",
    "def createRandomList(n):\n",
    "    myarray = []\n",
    "    for i in range(n):\n",
    "        foo = [0,1,2,3,4,5,6,7,8,9]\n",
    "        random_index = randrange(0,len(foo))\n",
    "        myarray.append(foo[random_index])\n",
    "    return myarray\n",
    "\n",
    "def bubbleSort(alist):\n",
    "    step = 0\n",
    "    for passnum in range(len(alist)-1,0,-1):\n",
    "        for i in range(passnum):\n",
    "            if alist[i]>alist[i+1]:\n",
    "                step += 1\n",
    "                temp = alist[i]\n",
    "                alist[i] = alist[i+1]\n",
    "                alist[i+1] = temp\n",
    "    return step\n",
    "def insertionSort(alist):\n",
    "   step = 0\n",
    "   for index in range(1,len(alist)):\n",
    "     currentvalue = alist[index]\n",
    "     position = index\n",
    "     while position>0 and alist[position-1]>currentvalue:\n",
    "         step += 1\n",
    "         alist[position]=alist[position-1]\n",
    "         position = position-1\n",
    "     alist[position]=currentvalue\n",
    "   return step\n",
    "\n",
    "newArray = createRandomList(30)\n",
    "print(\"----------bubbleSort----------------\")\n",
    "print(\"----------old list baby-------------\")\n",
    "print(newArray)\n",
    "step = bubbleSort(newArray)\n",
    "print(\"----------new list baby-------------\\n\")\n",
    "print(newArray)\n",
    "print(\"----------step = \" , step , \"------\\n\")\n",
    "\n",
    "newArray = createRandomList(30)\n",
    "print(\"----------insertionSort-------------\")\n",
    "print(\"----------old list baby-------------\")\n",
    "print(newArray)\n",
    "step = insertionSort(newArray)\n",
    "print(\"----------new list baby-------------\")\n",
    "print(newArray)\n",
    "print(\"----------step = \" , step , \"-------\")"
   ]
  },
  {
   "cell_type": "code",
   "execution_count": null,
   "metadata": {
    "collapsed": true
   },
   "outputs": [],
   "source": []
  },
  {
   "cell_type": "code",
   "execution_count": null,
   "metadata": {
    "collapsed": true
   },
   "outputs": [],
   "source": []
  },
  {
   "cell_type": "code",
   "execution_count": null,
   "metadata": {
    "collapsed": true
   },
   "outputs": [],
   "source": []
  }
 ],
 "metadata": {
  "anaconda-cloud": {},
  "kernelspec": {
   "display_name": "Python [default]",
   "language": "python",
   "name": "python3"
  },
  "language_info": {
   "codemirror_mode": {
    "name": "ipython",
    "version": 3
   },
   "file_extension": ".py",
   "mimetype": "text/x-python",
   "name": "python",
   "nbconvert_exporter": "python",
   "pygments_lexer": "ipython3",
   "version": "3.5.2"
  }
 },
 "nbformat": 4,
 "nbformat_minor": 1
}
