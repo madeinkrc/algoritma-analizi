{
 "cells": [
  {
   "cell_type": "code",
   "execution_count": null,
   "metadata": {
    "collapsed": false
   },
   "outputs": [],
   "source": [
    "import time\n",
    "millis=int(round(time.time()))\n",
    "print (millis)"
   ]
  },
  {
   "cell_type": "code",
   "execution_count": 2,
   "metadata": {
    "collapsed": false
   },
   "outputs": [
    {
     "name": "stdout",
     "output_type": "stream",
     "text": [
      "1518772552\n",
      "1518772557\n",
      "5\n"
     ]
    }
   ],
   "source": [
    "millis_1=int(round(time.time()))\n",
    "print (millis_1)\n",
    "time.sleep(5)\n",
    "\n",
    "millis_2=int(round(time.time()))\n",
    "print (millis_2)\n",
    "print (millis_2-millis_1)"
   ]
  },
  {
   "cell_type": "code",
   "execution_count": 3,
   "metadata": {
    "collapsed": false
   },
   "outputs": [],
   "source": [
    "def fib_rec(n):\n",
    "    if(n<2):\n",
    "        return n\n",
    "    else:\n",
    "        return fib_rec(n-1)+fib_rec(n-2)"
   ]
  },
  {
   "cell_type": "code",
   "execution_count": 4,
   "metadata": {
    "collapsed": false
   },
   "outputs": [],
   "source": [
    "def fib_loop(n):\n",
    "    if (n<2):\n",
    "        return n\n",
    "    else:\n",
    "        a=0\n",
    "        b=1\n",
    "        while(n>1):\n",
    "            c=a+b\n",
    "            a=b\n",
    "            b=c\n",
    "            n=n-1\n",
    "    return c"
   ]
  },
  {
   "cell_type": "code",
   "execution_count": 5,
   "metadata": {
    "collapsed": false
   },
   "outputs": [
    {
     "data": {
      "text/plain": [
       "(0, 1, 1, 2, 3, 5)"
      ]
     },
     "execution_count": 5,
     "metadata": {},
     "output_type": "execute_result"
    }
   ],
   "source": [
    "fib_rec(0),fib_rec(1),fib_rec(2),fib_rec(3),fib_rec(4),fib_rec(5)"
   ]
  },
  {
   "cell_type": "code",
   "execution_count": 6,
   "metadata": {
    "collapsed": false
   },
   "outputs": [
    {
     "data": {
      "text/plain": [
       "(0, 1, 1, 2, 3, 5)"
      ]
     },
     "execution_count": 6,
     "metadata": {},
     "output_type": "execute_result"
    }
   ],
   "source": [
    "fib_loop(0),fib_loop(1),fib_loop(2),fib_loop(3),fib_loop(4),fib_loop(5)"
   ]
  },
  {
   "cell_type": "code",
   "execution_count": 7,
   "metadata": {
    "collapsed": false
   },
   "outputs": [
    {
     "name": "stdout",
     "output_type": "stream",
     "text": [
      "40  icin gecen sure :  79\n"
     ]
    }
   ],
   "source": [
    "n=40\n",
    "time_1=int(round(time.time()))\n",
    "fib_rec(n)\n",
    "time_2=int(round(time.time()))\n",
    "print(n,\" icin gecen sure : \",time_2-time_1)"
   ]
  },
  {
   "cell_type": "code",
   "execution_count": 8,
   "metadata": {
    "collapsed": false
   },
   "outputs": [
    {
     "name": "stdout",
     "output_type": "stream",
     "text": [
      "R 0 RECURSIVE NP OLAN :  0  icin gecen sure :  0  saniye\n",
      "L 0 LOOP P(LINEAR) OLAN :  0  icin gecen sure :  0  saniye\n",
      "R 1 RECURSIVE NP OLAN :  1  icin gecen sure :  0  saniye\n",
      "L 1 LOOP P(LINEAR) OLAN :  1  icin gecen sure :  0  saniye\n",
      "R 2 RECURSIVE NP OLAN :  2  icin gecen sure :  0  saniye\n",
      "L 2 LOOP P(LINEAR) OLAN :  2  icin gecen sure :  0  saniye\n",
      "R 3 RECURSIVE NP OLAN :  3  icin gecen sure :  0  saniye\n",
      "L 3 LOOP P(LINEAR) OLAN :  3  icin gecen sure :  0  saniye\n",
      "R 4 RECURSIVE NP OLAN :  4  icin gecen sure :  0  saniye\n",
      "L 4 LOOP P(LINEAR) OLAN :  4  icin gecen sure :  0  saniye\n",
      "R 5 RECURSIVE NP OLAN :  5  icin gecen sure :  0  saniye\n",
      "L 5 LOOP P(LINEAR) OLAN :  5  icin gecen sure :  0  saniye\n",
      "R 6 RECURSIVE NP OLAN :  6  icin gecen sure :  0  saniye\n",
      "L 6 LOOP P(LINEAR) OLAN :  6  icin gecen sure :  0  saniye\n",
      "R 7 RECURSIVE NP OLAN :  7  icin gecen sure :  0  saniye\n",
      "L 7 LOOP P(LINEAR) OLAN :  7  icin gecen sure :  0  saniye\n",
      "R 8 RECURSIVE NP OLAN :  8  icin gecen sure :  0  saniye\n",
      "L 8 LOOP P(LINEAR) OLAN :  8  icin gecen sure :  0  saniye\n",
      "R 9 RECURSIVE NP OLAN :  9  icin gecen sure :  0  saniye\n",
      "L 9 LOOP P(LINEAR) OLAN :  9  icin gecen sure :  0  saniye\n",
      "R 10 RECURSIVE NP OLAN :  10  icin gecen sure :  0  saniye\n",
      "L 10 LOOP P(LINEAR) OLAN :  10  icin gecen sure :  0  saniye\n",
      "R 11 RECURSIVE NP OLAN :  11  icin gecen sure :  0  saniye\n",
      "L 11 LOOP P(LINEAR) OLAN :  11  icin gecen sure :  0  saniye\n",
      "R 12 RECURSIVE NP OLAN :  12  icin gecen sure :  0  saniye\n",
      "L 12 LOOP P(LINEAR) OLAN :  12  icin gecen sure :  0  saniye\n",
      "R 13 RECURSIVE NP OLAN :  13  icin gecen sure :  0  saniye\n",
      "L 13 LOOP P(LINEAR) OLAN :  13  icin gecen sure :  0  saniye\n",
      "R 14 RECURSIVE NP OLAN :  14  icin gecen sure :  0  saniye\n",
      "L 14 LOOP P(LINEAR) OLAN :  14  icin gecen sure :  0  saniye\n",
      "R 15 RECURSIVE NP OLAN :  15  icin gecen sure :  0  saniye\n",
      "L 15 LOOP P(LINEAR) OLAN :  15  icin gecen sure :  0  saniye\n",
      "R 16 RECURSIVE NP OLAN :  16  icin gecen sure :  0  saniye\n",
      "L 16 LOOP P(LINEAR) OLAN :  16  icin gecen sure :  0  saniye\n",
      "R 17 RECURSIVE NP OLAN :  17  icin gecen sure :  0  saniye\n",
      "L 17 LOOP P(LINEAR) OLAN :  17  icin gecen sure :  0  saniye\n",
      "R 18 RECURSIVE NP OLAN :  18  icin gecen sure :  0  saniye\n",
      "L 18 LOOP P(LINEAR) OLAN :  18  icin gecen sure :  0  saniye\n",
      "R 19 RECURSIVE NP OLAN :  19  icin gecen sure :  0  saniye\n",
      "L 19 LOOP P(LINEAR) OLAN :  19  icin gecen sure :  0  saniye\n",
      "R 20 RECURSIVE NP OLAN :  20  icin gecen sure :  0  saniye\n",
      "L 20 LOOP P(LINEAR) OLAN :  20  icin gecen sure :  0  saniye\n",
      "R 21 RECURSIVE NP OLAN :  21  icin gecen sure :  0  saniye\n",
      "L 21 LOOP P(LINEAR) OLAN :  21  icin gecen sure :  0  saniye\n",
      "R 22 RECURSIVE NP OLAN :  22  icin gecen sure :  0  saniye\n",
      "L 22 LOOP P(LINEAR) OLAN :  22  icin gecen sure :  0  saniye\n",
      "R 23 RECURSIVE NP OLAN :  23  icin gecen sure :  0  saniye\n",
      "L 23 LOOP P(LINEAR) OLAN :  23  icin gecen sure :  0  saniye\n",
      "R 24 RECURSIVE NP OLAN :  24  icin gecen sure :  0  saniye\n",
      "L 24 LOOP P(LINEAR) OLAN :  24  icin gecen sure :  0  saniye\n",
      "R 25 RECURSIVE NP OLAN :  25  icin gecen sure :  0  saniye\n",
      "L 25 LOOP P(LINEAR) OLAN :  25  icin gecen sure :  0  saniye\n",
      "R 26 RECURSIVE NP OLAN :  26  icin gecen sure :  0  saniye\n",
      "L 26 LOOP P(LINEAR) OLAN :  26  icin gecen sure :  0  saniye\n",
      "R 27 RECURSIVE NP OLAN :  27  icin gecen sure :  0  saniye\n",
      "L 27 LOOP P(LINEAR) OLAN :  27  icin gecen sure :  0  saniye\n",
      "R 28 RECURSIVE NP OLAN :  28  icin gecen sure :  0  saniye\n",
      "L 28 LOOP P(LINEAR) OLAN :  28  icin gecen sure :  0  saniye\n",
      "R 29 RECURSIVE NP OLAN :  29  icin gecen sure :  1  saniye\n",
      "L 29 LOOP P(LINEAR) OLAN :  29  icin gecen sure :  0  saniye\n",
      "R 30 RECURSIVE NP OLAN :  30  icin gecen sure :  1  saniye\n",
      "L 30 LOOP P(LINEAR) OLAN :  30  icin gecen sure :  0  saniye\n",
      "R 31 RECURSIVE NP OLAN :  31  icin gecen sure :  1  saniye\n",
      "L 31 LOOP P(LINEAR) OLAN :  31  icin gecen sure :  0  saniye\n",
      "R 32 RECURSIVE NP OLAN :  32  icin gecen sure :  1  saniye\n",
      "L 32 LOOP P(LINEAR) OLAN :  32  icin gecen sure :  0  saniye\n",
      "R 33 RECURSIVE NP OLAN :  33  icin gecen sure :  3  saniye\n",
      "L 33 LOOP P(LINEAR) OLAN :  33  icin gecen sure :  0  saniye\n",
      "R 34 RECURSIVE NP OLAN :  34  icin gecen sure :  4  saniye\n",
      "L 34 LOOP P(LINEAR) OLAN :  34  icin gecen sure :  0  saniye\n",
      "R 35 RECURSIVE NP OLAN :  35  icin gecen sure :  7  saniye\n",
      "L 35 LOOP P(LINEAR) OLAN :  35  icin gecen sure :  0  saniye\n",
      "R 36 RECURSIVE NP OLAN :  36  icin gecen sure :  11  saniye\n",
      "L 36 LOOP P(LINEAR) OLAN :  36  icin gecen sure :  0  saniye\n",
      "R 37 RECURSIVE NP OLAN :  37  icin gecen sure :  18  saniye\n",
      "L 37 LOOP P(LINEAR) OLAN :  37  icin gecen sure :  0  saniye\n",
      "R 38 RECURSIVE NP OLAN :  38  icin gecen sure :  30  saniye\n",
      "L 38 LOOP P(LINEAR) OLAN :  38  icin gecen sure :  0  saniye\n",
      "R 39 RECURSIVE NP OLAN :  39  icin gecen sure :  48  saniye\n",
      "L 39 LOOP P(LINEAR) OLAN :  39  icin gecen sure :  0  saniye\n"
     ]
    }
   ],
   "source": [
    "for n in range(40):\n",
    "    time_1=int(round(time.time()))\n",
    "    fib_rec(n)\n",
    "    time_2=int(round(time.time()))\n",
    "    print(\"R\",n,\"RECURSIVE NP OLAN : \",n,\" icin gecen sure : \",time_2-time_1,\" saniye\")\n",
    "    \n",
    "    time_1=int(round(time.time()))\n",
    "    fib_loop(n)\n",
    "    time_2=int(round(time.time()))\n",
    "    print(\"L\",n,\"LOOP P(LINEAR) OLAN : \",n,\" icin gecen sure : \",time_2-time_1,\" saniye\")"
   ]
  },
  {
   "cell_type": "code",
   "execution_count": null,
   "metadata": {
    "collapsed": true
   },
   "outputs": [],
   "source": []
  }
 ],
 "metadata": {
  "anaconda-cloud": {},
  "kernelspec": {
   "display_name": "Python [default]",
   "language": "python",
   "name": "python3"
  },
  "language_info": {
   "codemirror_mode": {
    "name": "ipython",
    "version": 3
   },
   "file_extension": ".py",
   "mimetype": "text/x-python",
   "name": "python",
   "nbconvert_exporter": "python",
   "pygments_lexer": "ipython3",
   "version": "3.5.2"
  }
 },
 "nbformat": 4,
 "nbformat_minor": 1
}
