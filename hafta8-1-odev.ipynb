{
 "cells": [
  {
   "cell_type": "code",
   "execution_count": 19,
   "metadata": {
    "collapsed": true
   },
   "outputs": [],
   "source": [
    "a = [[2, 0], [0, 2]]\n",
    "b = [[8, 1], [4, 4]]"
   ]
  },
  {
   "cell_type": "code",
   "execution_count": 20,
   "metadata": {
    "collapsed": true
   },
   "outputs": [],
   "source": [
    "def kartezyenCarpim(a,b):\n",
    "  matris=[]\n",
    "  temp=[]\n",
    "  x=0\n",
    "  for i in a:\n",
    "    for j in b:\n",
    "      for k in range(len(j)):\n",
    "        temp.append(i[x])\n",
    "        temp.append(j[k])\n",
    "        matris.append(temp)\n",
    "        temp=[]\n",
    "      x=x+1\n",
    "    x=0\n",
    "  print(matris)"
   ]
  },
  {
   "cell_type": "code",
   "execution_count": 21,
   "metadata": {
    "collapsed": true
   },
   "outputs": [],
   "source": [
    "def carp(liste, sayi):\n",
    "  vektor=[]\n",
    "  gecici=[]\n",
    "  for i in liste:\n",
    "    for j in range(len(i)):\n",
    "      gecici.append((i[j]*sayi))\n",
    "    vektor.append(gecici)\n",
    "    gecici=[]\n",
    "  return vektor\n"
   ]
  },
  {
   "cell_type": "code",
   "execution_count": 22,
   "metadata": {
    "collapsed": true
   },
   "outputs": [],
   "source": [
    "def dis_carpim(a,b):\n",
    "  matris=[]\n",
    "  gecici=[]\n",
    "  for i in range(len(a)):\n",
    "    for j in range(len(a[0])):\n",
    "      gecici.append(carp(b,a[i][j]))\n",
    "    matris.append(gecici)\n",
    "    gecici = []\n",
    "  print(matris)"
   ]
  },
  {
   "cell_type": "code",
   "execution_count": 23,
   "metadata": {
    "collapsed": true
   },
   "outputs": [],
   "source": [
    "def ic_carp(a,b):\n",
    "  result=[]\n",
    "  toplam=0\n",
    "  # iterate through rows of X\n",
    "  for i in range(len(a)):\n",
    "    # iterate through columns of Y\n",
    "      for j in range(len(b[0])):\n",
    "        # iterate through rows of Y\n",
    "        for k in range(len(b)):\n",
    "            toplam += a[i][k] * b[k][j]\n",
    "        result.append(toplam)\n",
    "        toplam=0"
   ]
  },
  {
   "cell_type": "code",
   "execution_count": 24,
   "metadata": {
    "collapsed": false
   },
   "outputs": [],
   "source": [
    "ic_carp(a,b) "
   ]
  },
  {
   "cell_type": "code",
   "execution_count": 25,
   "metadata": {
    "collapsed": false
   },
   "outputs": [
    {
     "name": "stdout",
     "output_type": "stream",
     "text": [
      "[[[[16, 2], [8, 8]], [[0, 0], [0, 0]]], [[[0, 0], [0, 0]], [[16, 2], [8, 8]]]]\n"
     ]
    }
   ],
   "source": [
    "dis_carpim(a,b)"
   ]
  },
  {
   "cell_type": "code",
   "execution_count": 26,
   "metadata": {
    "collapsed": false
   },
   "outputs": [
    {
     "name": "stdout",
     "output_type": "stream",
     "text": [
      "[[2, 8], [2, 1], [0, 4], [0, 4], [0, 8], [0, 1], [2, 4], [2, 4]]\n"
     ]
    }
   ],
   "source": [
    "kartezyenCarpim(a,b)"
   ]
  },
  {
   "cell_type": "code",
   "execution_count": null,
   "metadata": {
    "collapsed": true
   },
   "outputs": [],
   "source": []
  }
 ],
 "metadata": {
  "kernelspec": {
   "display_name": "Python [default]",
   "language": "python",
   "name": "python3"
  },
  "language_info": {
   "codemirror_mode": {
    "name": "ipython",
    "version": 3
   },
   "file_extension": ".py",
   "mimetype": "text/x-python",
   "name": "python",
   "nbconvert_exporter": "python",
   "pygments_lexer": "ipython3",
   "version": "3.5.2"
  }
 },
 "nbformat": 4,
 "nbformat_minor": 1
}
