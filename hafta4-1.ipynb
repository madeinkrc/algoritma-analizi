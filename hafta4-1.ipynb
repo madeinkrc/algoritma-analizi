{
 "cells": [
  {
   "cell_type": "code",
   "execution_count": 25,
   "metadata": {
    "collapsed": true
   },
   "outputs": [],
   "source": [
    "my_L_1=[]\n",
    "my_L_2=my_L_1\n",
    "my_L_1.append(\"Test\")"
   ]
  },
  {
   "cell_type": "code",
   "execution_count": 26,
   "metadata": {
    "collapsed": false
   },
   "outputs": [
    {
     "name": "stdout",
     "output_type": "stream",
     "text": [
      "['Test']\n"
     ]
    }
   ],
   "source": [
    "print(my_L_2)"
   ]
  },
  {
   "cell_type": "code",
   "execution_count": 27,
   "metadata": {
    "collapsed": true
   },
   "outputs": [],
   "source": [
    "#SHALLOW COPY ve DEEP COPY ÖNEMLİ KONULAR (BAK!)\n",
    "#http://www.wiki-zero.com/index.php?q=aHR0cHM6Ly9lbi53aWtpcGVkaWEub3JnL3dpa2kvT2JqZWN0X2NvcHlpbmcjU2hhbGxvd19jb3B5"
   ]
  },
  {
   "cell_type": "code",
   "execution_count": 28,
   "metadata": {
    "collapsed": true
   },
   "outputs": [],
   "source": [
    "for i in range(100):\n",
    "    my_L_1.append(str(i)+\" Test\")"
   ]
  },
  {
   "cell_type": "code",
   "execution_count": 29,
   "metadata": {
    "collapsed": false
   },
   "outputs": [
    {
     "name": "stdout",
     "output_type": "stream",
     "text": [
      "['Test', '0 Test', '1 Test', '2 Test', '3 Test', '4 Test', '5 Test', '6 Test', '7 Test', '8 Test', '9 Test', '10 Test', '11 Test', '12 Test', '13 Test', '14 Test', '15 Test', '16 Test', '17 Test', '18 Test', '19 Test', '20 Test', '21 Test', '22 Test', '23 Test', '24 Test', '25 Test', '26 Test', '27 Test', '28 Test', '29 Test', '30 Test', '31 Test', '32 Test', '33 Test', '34 Test', '35 Test', '36 Test', '37 Test', '38 Test', '39 Test', '40 Test', '41 Test', '42 Test', '43 Test', '44 Test', '45 Test', '46 Test', '47 Test', '48 Test', '49 Test', '50 Test', '51 Test', '52 Test', '53 Test', '54 Test', '55 Test', '56 Test', '57 Test', '58 Test', '59 Test', '60 Test', '61 Test', '62 Test', '63 Test', '64 Test', '65 Test', '66 Test', '67 Test', '68 Test', '69 Test', '70 Test', '71 Test', '72 Test', '73 Test', '74 Test', '75 Test', '76 Test', '77 Test', '78 Test', '79 Test', '80 Test', '81 Test', '82 Test', '83 Test', '84 Test', '85 Test', '86 Test', '87 Test', '88 Test', '89 Test', '90 Test', '91 Test', '92 Test', '93 Test', '94 Test', '95 Test', '96 Test', '97 Test', '98 Test', '99 Test']\n"
     ]
    }
   ],
   "source": [
    "print(my_L_2)"
   ]
  },
  {
   "cell_type": "code",
   "execution_count": 4,
   "metadata": {
    "collapsed": false
   },
   "outputs": [
    {
     "name": "stdout",
     "output_type": "stream",
     "text": [
      "Iki Dizi Pointer'i Ayni\n"
     ]
    }
   ],
   "source": [
    "if(my_L_1==my_L_2):#Shallow Copy\n",
    "    print(\"Iki Dizi Pointer'i Ayni\")\n",
    "else:\n",
    "    print(\"Iki Dizi Pointer'i Farkli\")"
   ]
  },
  {
   "cell_type": "code",
   "execution_count": null,
   "metadata": {
    "collapsed": true
   },
   "outputs": [],
   "source": []
  }
 ],
 "metadata": {
  "anaconda-cloud": {},
  "kernelspec": {
   "display_name": "Python [default]",
   "language": "python",
   "name": "python3"
  },
  "language_info": {
   "codemirror_mode": {
    "name": "ipython",
    "version": 3
   },
   "file_extension": ".py",
   "mimetype": "text/x-python",
   "name": "python",
   "nbconvert_exporter": "python",
   "pygments_lexer": "ipython3",
   "version": "3.5.2"
  }
 },
 "nbformat": 4,
 "nbformat_minor": 1
}
